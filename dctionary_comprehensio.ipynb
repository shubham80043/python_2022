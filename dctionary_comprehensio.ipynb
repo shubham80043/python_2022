{
 "cells": [
  {
   "cell_type": "markdown",
   "metadata": {},
   "source": [
    "Dictionary"
   ]
  },
  {
   "cell_type": "markdown",
   "metadata": {},
   "source": [
    ". It is an ordered collection of item\n",
    "\n",
    ".each item of dictionary has a key/value pair.\n",
    "\n"
   ]
  },
  {
   "cell_type": "code",
   "execution_count": 3,
   "metadata": {},
   "outputs": [
    {
     "name": "stdout",
     "output_type": "stream",
     "text": [
      "{'name': 'jack', 'age': 26}\n"
     ]
    }
   ],
   "source": [
    "# # get vs [] for retrieving elements\n",
    "\n",
    "my_dict = {'name': 'jack', 'age': 26}\n",
    "print(my_dict)"
   ]
  },
  {
   "cell_type": "code",
   "execution_count": 5,
   "metadata": {},
   "outputs": [
    {
     "name": "stdout",
     "output_type": "stream",
     "text": [
      "26\n"
     ]
    }
   ],
   "source": [
    "print(my_dict.get('age'))"
   ]
  },
  {
   "cell_type": "code",
   "execution_count": 8,
   "metadata": {},
   "outputs": [
    {
     "ename": "KeyError",
     "evalue": "'address'",
     "output_type": "error",
     "traceback": [
      "\u001b[1;31m---------------------------------------------------------------------------\u001b[0m",
      "\u001b[1;31mKeyError\u001b[0m                                  Traceback (most recent call last)",
      "\u001b[1;32mc:\\Users\\xyz\\Desktop\\priya.py\\dctionary.ipynb Cell 5'\u001b[0m in \u001b[0;36m<cell line: 3>\u001b[1;34m()\u001b[0m\n\u001b[0;32m      <a href='vscode-notebook-cell:/c%3A/Users/xyz/Desktop/priya.py/dctionary.ipynb#ch0000008?line=0'>1</a>\u001b[0m \u001b[39m# trying to access keys which \u001b[39;00m\n\u001b[0;32m      <a href='vscode-notebook-cell:/c%3A/Users/xyz/Desktop/priya.py/dctionary.ipynb#ch0000008?line=1'>2</a>\u001b[0m \u001b[39m# doesn't exist throws error\u001b[39;00m\n\u001b[1;32m----> <a href='vscode-notebook-cell:/c%3A/Users/xyz/Desktop/priya.py/dctionary.ipynb#ch0000008?line=2'>3</a>\u001b[0m \u001b[39mprint\u001b[39m(my_dict[\u001b[39m'\u001b[39;49m\u001b[39maddress\u001b[39;49m\u001b[39m'\u001b[39;49m])\n",
      "\u001b[1;31mKeyError\u001b[0m: 'address'"
     ]
    }
   ],
   "source": [
    "# trying to access keys which \n",
    "# doesn't exist throws error\n",
    "print(my_dict['address'])"
   ]
  },
  {
   "cell_type": "code",
   "execution_count": 7,
   "metadata": {},
   "outputs": [
    {
     "name": "stdout",
     "output_type": "stream",
     "text": [
      "None\n"
     ]
    }
   ],
   "source": [
    "# use get () for key extraction\n",
    "print(my_dict.get('address')) # get show error proof data "
   ]
  },
  {
   "cell_type": "code",
   "execution_count": 9,
   "metadata": {},
   "outputs": [],
   "source": [
    "# update value\n",
    "\n",
    "my_dict['age'] = 27"
   ]
  },
  {
   "cell_type": "code",
   "execution_count": 10,
   "metadata": {},
   "outputs": [
    {
     "name": "stdout",
     "output_type": "stream",
     "text": [
      "{'name': 'jack', 'age': 27}\n"
     ]
    }
   ],
   "source": [
    "print(my_dict)"
   ]
  },
  {
   "cell_type": "code",
   "execution_count": 29,
   "metadata": {},
   "outputs": [
    {
     "name": "stdout",
     "output_type": "stream",
     "text": [
      "{'name': 'jack', 'age': 27, 'address': 'downtown'}\n"
     ]
    }
   ],
   "source": [
    "# add item\n",
    "my_dict['address'] = 'downtown'\n",
    "print(my_dict)"
   ]
  },
  {
   "cell_type": "code",
   "execution_count": 30,
   "metadata": {},
   "outputs": [
    {
     "name": "stdout",
     "output_type": "stream",
     "text": [
      "16\n"
     ]
    }
   ],
   "source": [
    "# remove a particular item, return its value\n",
    "squares ={1:1, 2:4, 3:9, 4: 16, 5:25}\n",
    "print(squares.pop(4))"
   ]
  },
  {
   "cell_type": "code",
   "execution_count": 31,
   "metadata": {},
   "outputs": [
    {
     "name": "stdout",
     "output_type": "stream",
     "text": [
      "{1: 1, 2: 4, 3: 9, 5: 25}\n"
     ]
    }
   ],
   "source": [
    "print(squares)"
   ]
  },
  {
   "cell_type": "code",
   "execution_count": 13,
   "metadata": {},
   "outputs": [
    {
     "name": "stdout",
     "output_type": "stream",
     "text": [
      "(5, 25)\n"
     ]
    }
   ],
   "source": [
    "# remove an arbitrary item, return (key,value)\n",
    "# pop remove key value pair\n",
    "\n",
    "print(squares.popitem())"
   ]
  },
  {
   "cell_type": "code",
   "execution_count": 14,
   "metadata": {},
   "outputs": [],
   "source": [
    "# remove all items\n",
    "squares.clear()"
   ]
  },
  {
   "cell_type": "code",
   "execution_count": 15,
   "metadata": {},
   "outputs": [],
   "source": [
    "# delete the dictionary itself\n",
    "\n",
    "del squares"
   ]
  },
  {
   "cell_type": "code",
   "execution_count": 16,
   "metadata": {},
   "outputs": [
    {
     "ename": "NameError",
     "evalue": "name 'squares' is not defined",
     "output_type": "error",
     "traceback": [
      "\u001b[1;31m---------------------------------------------------------------------------\u001b[0m",
      "\u001b[1;31mNameError\u001b[0m                                 Traceback (most recent call last)",
      "\u001b[1;32mc:\\Users\\xyz\\Desktop\\priya.py\\dctionary.ipynb Cell 14'\u001b[0m in \u001b[0;36m<cell line: 1>\u001b[1;34m()\u001b[0m\n\u001b[1;32m----> <a href='vscode-notebook-cell:/c%3A/Users/xyz/Desktop/priya.py/dctionary.ipynb#ch0000017?line=0'>1</a>\u001b[0m \u001b[39mprint\u001b[39m(squares)\n",
      "\u001b[1;31mNameError\u001b[0m: name 'squares' is not defined"
     ]
    }
   ],
   "source": [
    "print(squares) # items of squares are cleared"
   ]
  },
  {
   "cell_type": "code",
   "execution_count": 18,
   "metadata": {},
   "outputs": [],
   "source": [
    "squares ={1:1, 2:4, 3:9, 4: 16, 5:25}"
   ]
  },
  {
   "cell_type": "code",
   "execution_count": 19,
   "metadata": {},
   "outputs": [
    {
     "name": "stdout",
     "output_type": "stream",
     "text": [
      "1\n",
      "2\n",
      "3\n",
      "4\n",
      "5\n"
     ]
    }
   ],
   "source": [
    "# only keys\n",
    "for i in squares: # this method not used\n",
    "    print(i)"
   ]
  },
  {
   "cell_type": "code",
   "execution_count": 32,
   "metadata": {},
   "outputs": [
    {
     "name": "stdout",
     "output_type": "stream",
     "text": [
      "1\n",
      "4\n",
      "9\n",
      "25\n"
     ]
    }
   ],
   "source": [
    "# only values using i as key\n",
    "for i in squares:     # not good to use this method\n",
    "    print(squares[i])"
   ]
  },
  {
   "cell_type": "code",
   "execution_count": 33,
   "metadata": {},
   "outputs": [
    {
     "name": "stdout",
     "output_type": "stream",
     "text": [
      "1 1\n",
      "2 4\n",
      "3 9\n",
      "5 25\n"
     ]
    }
   ],
   "source": [
    "# using items ( ) functions to get bot key and value\n",
    "for k,v in squares.items():\n",
    "    print(k,v)"
   ]
  },
  {
   "cell_type": "code",
   "execution_count": 24,
   "metadata": {},
   "outputs": [],
   "source": [
    "students = {\n",
    "    'priya' : {\n",
    "        'maths' : 76,\n",
    "        'science' : 78,\n",
    "        'english': 65,\n",
    "    },\n",
    "    'aman' : {\n",
    "        'maths' : 70,\n",
    "        'science' : 76,\n",
    "        'english': 60,\n",
    "\n",
    "    },\n",
    "    'subh' : {\n",
    "        'maths' : 71,\n",
    "        'science' : 79,\n",
    "        'english': 69,\n",
    "    }\n",
    "}"
   ]
  },
  {
   "cell_type": "code",
   "execution_count": 25,
   "metadata": {},
   "outputs": [
    {
     "name": "stdout",
     "output_type": "stream",
     "text": [
      "{'priya': {'maths': 76, 'science': 78, 'english': 65}, 'aman': {'maths': 70, 'science': 76, 'english': 60}, 'subh': {'maths': 71, 'science': 79, 'english': 69}}\n"
     ]
    }
   ],
   "source": [
    "print(students)"
   ]
  },
  {
   "cell_type": "code",
   "execution_count": 27,
   "metadata": {},
   "outputs": [
    {
     "name": "stdout",
     "output_type": "stream",
     "text": [
      "priya\n",
      "maths 76\n",
      "science 78\n",
      "english 65\n",
      "aman\n",
      "maths 70\n",
      "science 76\n",
      "english 60\n",
      "subh\n",
      "maths 71\n",
      "science 79\n",
      "english 69\n"
     ]
    }
   ],
   "source": [
    "for name, marks in students.items():\n",
    "    print(name)\n",
    "    for subject,score in marks.items():\n",
    "        print(subject, score)"
   ]
  },
  {
   "cell_type": "markdown",
   "metadata": {},
   "source": [
    "wap to store word meaning in a dictionary\n"
   ]
  },
  {
   "cell_type": "code",
   "execution_count": 28,
   "metadata": {},
   "outputs": [
    {
     "name": "stdout",
     "output_type": "stream",
     "text": [
      "not found\n",
      "not found\n",
      "apple => red fruit which is very healthy\n",
      "frog => mamelian\n",
      "frog => mamelian\n",
      "exiting\n"
     ]
    }
   ],
   "source": [
    "data = {}\n",
    "while True:\n",
    "    word = input(\"enter a word:\")\n",
    "    if word:\n",
    "        if word in data:\n",
    "            print(word,\"=>\",data[word])\n",
    "        else:\n",
    "            print(\"not found\")\n",
    "            if input(f'do you know the meaning of {word} (y/n:)') == 'y':\n",
    "                data [word] = input(\"enter the meaning:\")\n",
    "    else:\n",
    "        print('exiting')\n",
    "        break"
   ]
  },
  {
   "cell_type": "markdown",
   "metadata": {},
   "source": [
    "comprehension\n",
    "\n",
    ".list comprehension"
   ]
  },
  {
   "cell_type": "code",
   "execution_count": 2,
   "metadata": {},
   "outputs": [
    {
     "data": {
      "text/plain": [
       "26"
      ]
     },
     "execution_count": 2,
     "metadata": {},
     "output_type": "execute_result"
    }
   ],
   "source": [
    "a_lot_of_numbers = [2,4,3,5,6,7,7,2,8,9,12,45,6,7,89,5,647,45,76,7,43,21,90,80,76,96]\n",
    "len(a_lot_of_numbers)"
   ]
  },
  {
   "cell_type": "markdown",
   "metadata": {},
   "source": [
    ". task 1-> to add 5 to each elements of the list and give a new list "
   ]
  },
  {
   "cell_type": "markdown",
   "metadata": {},
   "source": [
    "basic python programmer version"
   ]
  },
  {
   "cell_type": "code",
   "execution_count": 3,
   "metadata": {},
   "outputs": [],
   "source": [
    "output =[] # new list\n",
    "for num in a_lot_of_numbers: # loop through the list \n",
    "    v = num + 5   # add 5 to each number\n",
    "    output.append(v)   # append new value to the list"
   ]
  },
  {
   "cell_type": "code",
   "execution_count": 4,
   "metadata": {},
   "outputs": [
    {
     "name": "stdout",
     "output_type": "stream",
     "text": [
      "[2, 4, 3, 5, 6, 7, 7, 2, 8, 9, 12, 45, 6, 7, 89, 5, 647, 45, 76, 7, 43, 21, 90, 80, 76, 96]\n",
      "[7, 9, 8, 10, 11, 12, 12, 7, 13, 14, 17, 50, 11, 12, 94, 10, 652, 50, 81, 12, 48, 26, 95, 85, 81, 101]\n"
     ]
    }
   ],
   "source": [
    "print (a_lot_of_numbers)\n",
    "print(output)"
   ]
  },
  {
   "cell_type": "markdown",
   "metadata": {},
   "source": [
    "better version / pythonic version"
   ]
  },
  {
   "cell_type": "code",
   "execution_count": 3,
   "metadata": {},
   "outputs": [],
   "source": [
    "output_v2 = [num + 5 for num in a_lot_of_numbers]"
   ]
  },
  {
   "cell_type": "code",
   "execution_count": 4,
   "metadata": {},
   "outputs": [
    {
     "name": "stdout",
     "output_type": "stream",
     "text": [
      "[2, 4, 3, 5, 6, 7, 7, 2, 8, 9, 12, 45, 6, 7, 89, 5, 647, 45, 76, 7, 43, 21, 90, 80, 76, 96]\n",
      "[7, 9, 8, 10, 11, 12, 12, 7, 13, 14, 17, 50, 11, 12, 94, 10, 652, 50, 81, 12, 48, 26, 95, 85, 81, 101]\n",
      "[7, 9, 8, 10, 11, 12, 12, 7, 13, 14, 17, 50, 11, 12, 94, 10, 652, 50, 81, 12, 48, 26, 95, 85, 81, 101]\n"
     ]
    }
   ],
   "source": [
    "print(a_lot_of_numbers)\n",
    "print(output)\n",
    "print(output_v2)"
   ]
  },
  {
   "cell_type": "markdown",
   "metadata": {},
   "source": [
    "task 2-> to filter out number that are divisible by 3 and give a new list"
   ]
  },
  {
   "cell_type": "markdown",
   "metadata": {},
   "source": [
    "task 2 -> non pythonic version"
   ]
  },
  {
   "cell_type": "code",
   "execution_count": 7,
   "metadata": {},
   "outputs": [],
   "source": [
    "out3 = []                   # new list\n",
    "for i in a_lot_of_numbers:  # loop through the list\n",
    "    if i % 3 == 0:          # if the number is divided by 3\n",
    "        out3.append(i)      # append the number to the list"
   ]
  },
  {
   "cell_type": "markdown",
   "metadata": {},
   "source": [
    "task 2 pythonic version"
   ]
  },
  {
   "cell_type": "code",
   "execution_count": 8,
   "metadata": {},
   "outputs": [],
   "source": [
    "out3_v2 =[num for num in a_lot_of_numbers if num % 3 == 0]"
   ]
  },
  {
   "cell_type": "code",
   "execution_count": 9,
   "metadata": {},
   "outputs": [
    {
     "name": "stdout",
     "output_type": "stream",
     "text": [
      "[3, 6, 9, 12, 45, 6, 45, 21, 90, 96]\n",
      "[3, 6, 9, 12, 45, 6, 45, 21, 90, 96]\n"
     ]
    }
   ],
   "source": [
    "print(out3)\n",
    "print(out3_v2)"
   ]
  },
  {
   "cell_type": "markdown",
   "metadata": {},
   "source": [
    "task 3 -> add 10 to all numbers that are divisible by 2 and give a new list"
   ]
  },
  {
   "cell_type": "code",
   "execution_count": 10,
   "metadata": {},
   "outputs": [],
   "source": [
    "list_num = [ num + 10 for num in a_lot_of_numbers if num % 2 == 0]"
   ]
  },
  {
   "cell_type": "code",
   "execution_count": 11,
   "metadata": {},
   "outputs": [
    {
     "name": "stdout",
     "output_type": "stream",
     "text": [
      "[2, 4, 3, 5, 6, 7, 7, 2, 8, 9, 12, 45, 6, 7, 89, 5, 647, 45, 76, 7, 43, 21, 90, 80, 76, 96]\n",
      "[12, 14, 16, 12, 18, 22, 16, 86, 100, 90, 86, 106]\n"
     ]
    }
   ],
   "source": [
    "print(a_lot_of_numbers)\n",
    "print(list_num)"
   ]
  },
  {
   "cell_type": "code",
   "execution_count": 2,
   "metadata": {},
   "outputs": [
    {
     "name": "stdout",
     "output_type": "stream",
     "text": [
      "[1, 2, 3, 4, 5, 6, 7, 8, 9]\n",
      "{64, 1, 4, 36, 9, 16, 49, 81, 25}\n",
      "<class 'list'>\n"
     ]
    }
   ],
   "source": [
    "x =[1,2,3,4,5,6,7,8,9]\n",
    "x2 = {i**2  for i in x}\n",
    "print(x)\n",
    "print(x2)\n",
    "print(type(x))"
   ]
  },
  {
   "cell_type": "code",
   "execution_count": 20,
   "metadata": {},
   "outputs": [
    {
     "name": "stdout",
     "output_type": "stream",
     "text": [
      "[1, 2, 3, 4, 5, 6, 7, 8, 9]\n",
      "[1, 8, 27, 64, 125, 216, 343, 512, 729]\n"
     ]
    }
   ],
   "source": [
    "x3 = [i**3 for i in x]\n",
    "print(x)\n",
    "print(x3)"
   ]
  },
  {
   "cell_type": "markdown",
   "metadata": {},
   "source": [
    "creating a dictionary using comprehension"
   ]
  },
  {
   "cell_type": "code",
   "execution_count": 21,
   "metadata": {},
   "outputs": [
    {
     "name": "stdout",
     "output_type": "stream",
     "text": [
      "{2: 4, 4: 8, 3: 6, 5: 10, 6: 12, 7: 14, 8: 16, 9: 18, 12: 24, 45: 90, 89: 178, 647: 1294, 76: 152, 43: 86, 21: 42, 90: 180, 80: 160, 96: 192}\n"
     ]
    }
   ],
   "source": [
    "data ={i : i * 2 for i in a_lot_of_numbers}\n",
    "print(data)"
   ]
  },
  {
   "cell_type": "code",
   "execution_count": null,
   "metadata": {},
   "outputs": [],
   "source": []
  }
 ],
 "metadata": {
  "interpreter": {
   "hash": "82d89730e7bcf0dccb2cc9f961b008dd6a27a28ad8a465d43acff18a390d940f"
  },
  "kernelspec": {
   "display_name": "Python 3.8.10 64-bit",
   "language": "python",
   "name": "python3"
  },
  "language_info": {
   "codemirror_mode": {
    "name": "ipython",
    "version": 3
   },
   "file_extension": ".py",
   "mimetype": "text/x-python",
   "name": "python",
   "nbconvert_exporter": "python",
   "pygments_lexer": "ipython3",
   "version": "3.8.10"
  },
  "orig_nbformat": 4
 },
 "nbformat": 4,
 "nbformat_minor": 2
}
