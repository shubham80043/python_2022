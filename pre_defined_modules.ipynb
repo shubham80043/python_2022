{
 "cells": [
  {
   "cell_type": "markdown",
   "metadata": {},
   "source": [
    "Predefined modules and libraries"
   ]
  },
  {
   "cell_type": "code",
   "execution_count": 1,
   "metadata": {},
   "outputs": [],
   "source": [
    "import os"
   ]
  },
  {
   "cell_type": "code",
   "execution_count": 2,
   "metadata": {},
   "outputs": [
    {
     "data": {
      "text/plain": [
       "['.vscode',\n",
       " 'dctionary.ipynb',\n",
       " 'list.ipynb',\n",
       " 'loops.ipynb',\n",
       " 'pre_defined_modules.ipynb',\n",
       " 'string function.ipynb',\n",
       " 'while loop.ipynb']"
      ]
     },
     "execution_count": 2,
     "metadata": {},
     "output_type": "execute_result"
    }
   ],
   "source": [
    "os.listdir()"
   ]
  },
  {
   "cell_type": "code",
   "execution_count": 4,
   "metadata": {},
   "outputs": [],
   "source": [
    "import sqlite3"
   ]
  },
  {
   "cell_type": "code",
   "execution_count": 2,
   "metadata": {},
   "outputs": [
    {
     "name": "stdout",
     "output_type": "stream",
     "text": [
      "C:\\Users/All Users 0.00390625\n",
      "C:\\Users/Default 0.0078125\n",
      "C:\\Users/Default User 0.0078125\n",
      "C:\\Users/desktop.ini 0.0001659393310546875\n",
      "C:\\Users/Public 0.00390625\n",
      "C:\\Users/xyz 0.0234375\n"
     ]
    }
   ],
   "source": [
    "path =input('enter path:')\n",
    "if os.path.exists(path):\n",
    "    files = os.listdir(path)\n",
    "    for file in files:\n",
    "        filepath = path + '/' + file\n",
    "        size = os.path.getsize(filepath)\n",
    "        print(filepath, size/(1024*1024))"
   ]
  },
  {
   "cell_type": "code",
   "execution_count": null,
   "metadata": {},
   "outputs": [],
   "source": []
  }
 ],
 "metadata": {
  "interpreter": {
   "hash": "82d89730e7bcf0dccb2cc9f961b008dd6a27a28ad8a465d43acff18a390d940f"
  },
  "kernelspec": {
   "display_name": "Python 3.8.10 64-bit",
   "language": "python",
   "name": "python3"
  },
  "language_info": {
   "codemirror_mode": {
    "name": "ipython",
    "version": 3
   },
   "file_extension": ".py",
   "mimetype": "text/x-python",
   "name": "python",
   "nbconvert_exporter": "python",
   "pygments_lexer": "ipython3",
   "version": "3.8.10"
  },
  "orig_nbformat": 4
 },
 "nbformat": 4,
 "nbformat_minor": 2
}
