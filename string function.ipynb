{
 "cells": [
  {
   "cell_type": "markdown",
   "metadata": {},
   "source": [
    ". String function"
   ]
  },
  {
   "cell_type": "code",
   "execution_count": 68,
   "metadata": {},
   "outputs": [],
   "source": [
    "name =\"priya jaiswal\""
   ]
  },
  {
   "cell_type": "code",
   "execution_count": 69,
   "metadata": {},
   "outputs": [
    {
     "data": {
      "text/plain": [
       "'PRIYA JAISWAL'"
      ]
     },
     "execution_count": 69,
     "metadata": {},
     "output_type": "execute_result"
    }
   ],
   "source": [
    "name.upper()"
   ]
  },
  {
   "cell_type": "code",
   "execution_count": 71,
   "metadata": {},
   "outputs": [
    {
     "data": {
      "text/plain": [
       "'priya jaiswal'"
      ]
     },
     "execution_count": 71,
     "metadata": {},
     "output_type": "execute_result"
    }
   ],
   "source": [
    "name.lower()"
   ]
  },
  {
   "cell_type": "code",
   "execution_count": 72,
   "metadata": {},
   "outputs": [
    {
     "data": {
      "text/plain": [
       "'Priya jaiswal'"
      ]
     },
     "execution_count": 72,
     "metadata": {},
     "output_type": "execute_result"
    }
   ],
   "source": [
    "name.capitalize()"
   ]
  },
  {
   "cell_type": "markdown",
   "metadata": {},
   "source": [
    "format function"
   ]
  },
  {
   "cell_type": "code",
   "execution_count": 5,
   "metadata": {},
   "outputs": [
    {
     "name": "stdout",
     "output_type": "stream",
     "text": [
      "the total of 23 and 21 is 44\n"
     ]
    }
   ],
   "source": [
    "a = 23\n",
    "b = 21\n",
    "o = 'the total of {} and {} is {}'.format(a,b,a+b)\n",
    "print(o)"
   ]
  },
  {
   "cell_type": "code",
   "execution_count": 6,
   "metadata": {},
   "outputs": [],
   "source": [
    "msg = \"where there is a will there is a way\""
   ]
  },
  {
   "cell_type": "code",
   "execution_count": 7,
   "metadata": {},
   "outputs": [
    {
     "name": "stdout",
     "output_type": "stream",
     "text": [
      "36 chars\n"
     ]
    }
   ],
   "source": [
    "print(len(msg),\"chars\")"
   ]
  },
  {
   "cell_type": "code",
   "execution_count": 8,
   "metadata": {},
   "outputs": [
    {
     "data": {
      "text/plain": [
       "['where', 'there', 'is', 'a', 'will', 'there', 'is', 'a', 'way']"
      ]
     },
     "execution_count": 8,
     "metadata": {},
     "output_type": "execute_result"
    }
   ],
   "source": [
    "msg.split()"
   ]
  },
  {
   "cell_type": "code",
   "execution_count": 9,
   "metadata": {},
   "outputs": [
    {
     "data": {
      "text/plain": [
       "9"
      ]
     },
     "execution_count": 9,
     "metadata": {},
     "output_type": "execute_result"
    }
   ],
   "source": [
    "len(msg.split())"
   ]
  },
  {
   "cell_type": "code",
   "execution_count": 12,
   "metadata": {},
   "outputs": [
    {
     "name": "stdout",
     "output_type": "stream",
     "text": [
      "['C:', 'Users', 'xyz', '.ipython']\n"
     ]
    }
   ],
   "source": [
    "path =\"C:/Users/xyz/.ipython\"\n",
    "out = path.split('/')\n",
    "print(out)"
   ]
  },
  {
   "cell_type": "markdown",
   "metadata": {},
   "source": [
    ". Join function"
   ]
  },
  {
   "cell_type": "code",
   "execution_count": 3,
   "metadata": {},
   "outputs": [],
   "source": [
    "names = ['Alex','Alina','Bob','Boby','Cindy']"
   ]
  },
  {
   "cell_type": "code",
   "execution_count": 6,
   "metadata": {},
   "outputs": [
    {
     "name": "stdout",
     "output_type": "stream",
     "text": [
      "Alex , Alina , Bob , Boby , Cindy\n"
     ]
    }
   ],
   "source": [
    "namestr = ' , '.join(names)\n",
    "print(namestr)"
   ]
  },
  {
   "cell_type": "markdown",
   "metadata": {},
   "source": [
    "strip function\n",
    "\n",
    ". used in removal of extra spaces"
   ]
  },
  {
   "cell_type": "code",
   "execution_count": 17,
   "metadata": {},
   "outputs": [
    {
     "name": "stdout",
     "output_type": "stream",
     "text": [
      "12\n",
      " hello world\n"
     ]
    }
   ],
   "source": [
    "a = ' hello world'\n",
    "print(len(a))\n",
    "print(a)"
   ]
  },
  {
   "cell_type": "code",
   "execution_count": 18,
   "metadata": {},
   "outputs": [
    {
     "name": "stdout",
     "output_type": "stream",
     "text": [
      "hello world 11\n"
     ]
    }
   ],
   "source": [
    "ca = a.strip()\n",
    "print(ca, len(ca))"
   ]
  },
  {
   "cell_type": "markdown",
   "metadata": {},
   "source": [
    "ljust() , rjiust , center()"
   ]
  },
  {
   "cell_type": "code",
   "execution_count": 19,
   "metadata": {},
   "outputs": [
    {
     "data": {
      "text/plain": [
       "'hello                    '"
      ]
     },
     "execution_count": 19,
     "metadata": {},
     "output_type": "execute_result"
    }
   ],
   "source": [
    "'hello'.ljust(25)"
   ]
  },
  {
   "cell_type": "code",
   "execution_count": 21,
   "metadata": {},
   "outputs": [
    {
     "data": {
      "text/plain": [
       "'hello world..............'"
      ]
     },
     "execution_count": 21,
     "metadata": {},
     "output_type": "execute_result"
    }
   ],
   "source": [
    "'hello world'.ljust(25,'.')"
   ]
  },
  {
   "cell_type": "code",
   "execution_count": 22,
   "metadata": {},
   "outputs": [
    {
     "data": {
      "text/plain": [
       "'_______hello world_______'"
      ]
     },
     "execution_count": 22,
     "metadata": {},
     "output_type": "execute_result"
    }
   ],
   "source": [
    "'hello world'.center(25,'_')"
   ]
  },
  {
   "cell_type": "code",
   "execution_count": 24,
   "metadata": {},
   "outputs": [
    {
     "data": {
      "text/plain": [
       "'<<<<riya<<<<'"
      ]
     },
     "execution_count": 24,
     "metadata": {},
     "output_type": "execute_result"
    }
   ],
   "source": [
    "\"riya\".center(12,('<'))"
   ]
  },
  {
   "cell_type": "code",
   "execution_count": 28,
   "metadata": {},
   "outputs": [
    {
     "name": "stdout",
     "output_type": "stream",
     "text": [
      "                 L                 \n",
      "              L  L  L              \n",
      "           L  L  L  L  L           \n",
      "        L  L  L  L  L  L  L        \n",
      "     L  L  L  L  L  L  L  L  L     \n",
      "  L  L  L  L  L  L  L  L  L  L  L  \n",
      " L  L  L  L  L  L  L  L  L  L  L  L  L \n"
     ]
    }
   ],
   "source": [
    "for i in range(1,15,2):\n",
    "    print((i * ' L ').center(35))"
   ]
  },
  {
   "cell_type": "code",
   "execution_count": 29,
   "metadata": {},
   "outputs": [
    {
     "name": "stdout",
     "output_type": "stream",
     "text": [
      " @          \n",
      " @  @  @  @ \n",
      " @  @  @  @  @  @  @ \n",
      " @  @  @  @  @  @  @  @  @  @ \n",
      " @  @  @  @  @  @  @  @  @  @  @  @  @ \n",
      " @  @  @  @  @  @  @  @  @  @  @  @  @  @  @  @ \n"
     ]
    }
   ],
   "source": [
    "for i in range(1,18,3):\n",
    "    print((i * ' @ ').ljust(12))"
   ]
  },
  {
   "cell_type": "markdown",
   "metadata": {},
   "source": [
    "Find() or index"
   ]
  },
  {
   "cell_type": "code",
   "execution_count": 30,
   "metadata": {},
   "outputs": [
    {
     "name": "stdout",
     "output_type": "stream",
     "text": [
      "3\n",
      "3\n"
     ]
    }
   ],
   "source": [
    "msg = 'we are the champions, and we are not the loosers'\n",
    "print(msg.find('are'))\n",
    "print(msg.index('are'))"
   ]
  },
  {
   "cell_type": "code",
   "execution_count": 31,
   "metadata": {},
   "outputs": [
    {
     "name": "stdout",
     "output_type": "stream",
     "text": [
      "29\n",
      "29\n"
     ]
    }
   ],
   "source": [
    "msg = 'we are the champions, and we are not the loosers'\n",
    "print(msg.rfind('are'))\n",
    "print(msg.rindex('are'))"
   ]
  },
  {
   "cell_type": "code",
   "execution_count": null,
   "metadata": {},
   "outputs": [],
   "source": [
    "for i,v in enumerate(msg):\n",
    "    print(i,v)"
   ]
  },
  {
   "cell_type": "code",
   "execution_count": 33,
   "metadata": {},
   "outputs": [
    {
     "name": "stdout",
     "output_type": "stream",
     "text": [
      "4\n",
      "4\n"
     ]
    }
   ],
   "source": [
    "\n",
    "print(msg.find('re'))\n",
    "print(msg.index('re'))"
   ]
  },
  {
   "cell_type": "markdown",
   "metadata": {},
   "source": [
    ". Replace()"
   ]
  },
  {
   "cell_type": "code",
   "execution_count": 34,
   "metadata": {},
   "outputs": [
    {
     "data": {
      "text/plain": [
       "'we is the champions, and we is not the loosers'"
      ]
     },
     "execution_count": 34,
     "metadata": {},
     "output_type": "execute_result"
    }
   ],
   "source": [
    "msg.replace('are','is')"
   ]
  },
  {
   "cell_type": "code",
   "execution_count": 37,
   "metadata": {},
   "outputs": [
    {
     "data": {
      "text/plain": [
       "'I are the champions, and I are not the loosers'"
      ]
     },
     "execution_count": 37,
     "metadata": {},
     "output_type": "execute_result"
    }
   ],
   "source": [
    "msg.replace('we','I')"
   ]
  },
  {
   "cell_type": "markdown",
   "metadata": {},
   "source": [
    "Ques.. write a program to remove all the vowels"
   ]
  },
  {
   "cell_type": "code",
   "execution_count": 87,
   "metadata": {},
   "outputs": [
    {
     "name": "stdout",
     "output_type": "stream",
     "text": [
      "removing a  _  my n me is priy  j isw l\n",
      "removing e  _  my n m  is priy  j isw l\n",
      "removing i  _  my n m   s pr y  j  sw l\n",
      "removing o  _  my n m   s pr y  j  sw l\n",
      "removing u  _  my n m   s pr y  j  sw l\n",
      "removing A  _  my n m   s pr y  j  sw l\n",
      "removing E  _  my n m   s pr y  j  sw l\n",
      "removing I  _  my n m   s pr y  j  sw l\n",
      "removing O  _  my n m   s pr y  j  sw l\n",
      "removing U  _  my n m   s pr y  j  sw l\n"
     ]
    }
   ],
   "source": [
    "msg = \"my name is priya jaiswal\" # remove all the vowells\n",
    "for v in \"aeiouAEIOU\":\n",
    "    msg = msg.replace( v , ' ')\n",
    "    print(f\"removing {v}\",' _ ',msg)\n",
    "\n"
   ]
  },
  {
   "cell_type": "markdown",
   "metadata": {},
   "source": [
    "Ques. write a program to replace all the speciAl characters."
   ]
  },
  {
   "cell_type": "code",
   "execution_count": 92,
   "metadata": {},
   "outputs": [
    {
     "name": "stdout",
     "output_type": "stream",
     "text": [
      "_\n"
     ]
    }
   ],
   "source": [
    "x = \"(@ , % ,* ,! , >, /)\"\n",
    "for i in 'x':\n",
    "    name = x.replace( x  , '_')\n",
    "print(name)"
   ]
  },
  {
   "cell_type": "markdown",
   "metadata": {},
   "source": [
    "Ques.. write a program to remove all the special characters in the string."
   ]
  },
  {
   "cell_type": "code",
   "execution_count": 157,
   "metadata": {},
   "outputs": [
    {
     "name": "stdout",
     "output_type": "stream",
     "text": [
      "removing #,@ _ my name is #priya jaiswal and i am @24 years old\n"
     ]
    }
   ],
   "source": [
    "name = \"my name is #priya jaiswal and i am @24 years old\"\n",
    "a = (\"#,@\")\n",
    "for v in {a}:\n",
    "    msg = name.replace( v ,' ')\n",
    "print(f\"removing {v}\",'_',msg)"
   ]
  },
  {
   "cell_type": "code",
   "execution_count": 126,
   "metadata": {},
   "outputs": [
    {
     "name": "stdout",
     "output_type": "stream",
     "text": [
      "we are the champions , and we are not a loosers\n"
     ]
    }
   ],
   "source": [
    "msg = 'we are the champions , and we are not a loosers'\n",
    "print(msg)"
   ]
  },
  {
   "cell_type": "code",
   "execution_count": 127,
   "metadata": {},
   "outputs": [
    {
     "data": {
      "text/plain": [
       "1"
      ]
     },
     "execution_count": 127,
     "metadata": {},
     "output_type": "execute_result"
    }
   ],
   "source": [
    "msg.count('the')"
   ]
  },
  {
   "cell_type": "code",
   "execution_count": 128,
   "metadata": {},
   "outputs": [
    {
     "data": {
      "text/plain": [
       "False"
      ]
     },
     "execution_count": 128,
     "metadata": {},
     "output_type": "execute_result"
    }
   ],
   "source": [
    "msg.startswith('be')"
   ]
  },
  {
   "cell_type": "code",
   "execution_count": 129,
   "metadata": {},
   "outputs": [
    {
     "data": {
      "text/plain": [
       "True"
      ]
     },
     "execution_count": 129,
     "metadata": {},
     "output_type": "execute_result"
    }
   ],
   "source": [
    "msg.startswith('we')"
   ]
  },
  {
   "cell_type": "code",
   "execution_count": 130,
   "metadata": {},
   "outputs": [
    {
     "data": {
      "text/plain": [
       "True"
      ]
     },
     "execution_count": 130,
     "metadata": {},
     "output_type": "execute_result"
    }
   ],
   "source": [
    "msg.endswith('loosers')"
   ]
  },
  {
   "cell_type": "code",
   "execution_count": 131,
   "metadata": {},
   "outputs": [],
   "source": [
    "files =['file1.txt','file2.txt','abc.txt','xyz.jpg','acd.png']\n"
   ]
  },
  {
   "cell_type": "code",
   "execution_count": 132,
   "metadata": {},
   "outputs": [
    {
     "name": "stdout",
     "output_type": "stream",
     "text": [
      "file1.txt\n",
      "file2.txt\n",
      "abc.txt\n"
     ]
    }
   ],
   "source": [
    "for file in files:\n",
    "    if file.endswith('.txt'):\n",
    "        print(file)\n"
   ]
  },
  {
   "cell_type": "code",
   "execution_count": 133,
   "metadata": {},
   "outputs": [
    {
     "name": "stdout",
     "output_type": "stream",
     "text": [
      "xyz.jpg\n",
      "acd.png\n"
     ]
    }
   ],
   "source": [
    "for file in files:\n",
    "    if file.endswith('.jpg') or file.endswith(\".png\"):\n",
    "        print(file)\n"
   ]
  },
  {
   "cell_type": "code",
   "execution_count": 15,
   "metadata": {},
   "outputs": [
    {
     "name": "stdout",
     "output_type": "stream",
     "text": [
      "Mrs.white\n",
      "Mr. Peacock\n",
      "Mrs. Plum\n",
      "Mr.Green\n",
      "Mrs.Green\n"
     ]
    }
   ],
   "source": [
    "guests_names = ['Mrs.white','Mr. Peacock','Mrs. Plum','col.Mustard','prof.plum','Mr.Green','Mrs.Green']\n",
    "for name in guests_names:\n",
    "    if name.startswith('Mr.') or name.startswith('Mrs.'):\n",
    "     print(name)\n"
   ]
  },
  {
   "cell_type": "code",
   "execution_count": 17,
   "metadata": {},
   "outputs": [
    {
     "data": {
      "text/plain": [
       "True"
      ]
     },
     "execution_count": 17,
     "metadata": {},
     "output_type": "execute_result"
    }
   ],
   "source": [
    "name.startswith('Mrs.')"
   ]
  },
  {
   "cell_type": "code",
   "execution_count": 19,
   "metadata": {},
   "outputs": [],
   "source": [
    "bigtext = \"\"\"\n",
    " India our country is a huge and beautiful land full of wonders\n",
    " From the Himalayas to the Indian Ocean, the Desert of Thar in the snowy mountains of Sikkim, \n",
    " it is a country full of beautiful landscapes and beautiful people. India is a unique country with diversity.\n",
    " \"Unity is diversity\" is the main slogan of the country \"\"\""
   ]
  },
  {
   "cell_type": "code",
   "execution_count": 21,
   "metadata": {},
   "outputs": [
    {
     "name": "stdout",
     "output_type": "stream",
     "text": [
      "to 1\n",
      "of 5\n",
      "in 3\n",
      "for 0\n",
      "by 0\n"
     ]
    }
   ],
   "source": [
    "stopwords = ['to','of','in','for','by']\n",
    "for word in stopwords:\n",
    "    print(word,bigtext.count(word))"
   ]
  },
  {
   "cell_type": "code",
   "execution_count": 24,
   "metadata": {},
   "outputs": [
    {
     "name": "stdout",
     "output_type": "stream",
     "text": [
      "India our country is a huge and beautiful land full of wonders\n",
      " From the Himalayas to the Indian Ocean, the Desert of Thar in the snowy mountains of Sikki\n"
     ]
    }
   ],
   "source": [
    "smalltext = bigtext[:156].strip()\n",
    "print(smalltext)"
   ]
  },
  {
   "cell_type": "code",
   "execution_count": 28,
   "metadata": {},
   "outputs": [
    {
     "data": {
      "text/plain": [
       "'INDIA OUR COUNTRY IS A HUGE AND BEAUTIFUL LAND FULL OF WONDERS\\n FROM THE HIMALAYAS TO THE INDIAN OCEAN, THE DESERT OF THAR IN THE SNOWY MOUNTAINS OF SIKKI'"
      ]
     },
     "execution_count": 28,
     "metadata": {},
     "output_type": "execute_result"
    }
   ],
   "source": [
    "smalltext.upper()"
   ]
  },
  {
   "cell_type": "code",
   "execution_count": 29,
   "metadata": {},
   "outputs": [
    {
     "data": {
      "text/plain": [
       "'India our country is a huge and beautiful land full of wonders\\n from the himalayas to the indian ocean, the desert of thar in the snowy mountains of sikki'"
      ]
     },
     "execution_count": 29,
     "metadata": {},
     "output_type": "execute_result"
    }
   ],
   "source": [
    "smalltext.capitalize()"
   ]
  },
  {
   "cell_type": "code",
   "execution_count": 31,
   "metadata": {},
   "outputs": [
    {
     "name": "stdout",
     "output_type": "stream",
     "text": [
      "your name is in mixed case\n"
     ]
    }
   ],
   "source": [
    "name = input('enter your name:')\n",
    "if name.isupper():\n",
    "    print(\"your name is in uppercase\")\n",
    "elif name.islower():\n",
    "    print(\"your name is in lowercase\")\n",
    "elif name.istitle():\n",
    "    print(\"your name is in tittle case\")\n",
    "else:\n",
    "    print('your name is in mixed case')"
   ]
  },
  {
   "cell_type": "code",
   "execution_count": null,
   "metadata": {},
   "outputs": [],
   "source": []
  },
  {
   "cell_type": "code",
   "execution_count": 11,
   "metadata": {},
   "outputs": [
    {
     "name": "stdout",
     "output_type": "stream",
     "text": [
      "your value is numeric\n"
     ]
    }
   ],
   "source": [
    "value = input('enter a value')\n",
    "if value.isnumeric():\n",
    "    print(\"your value is numeric\")\n",
    "elif value.isalpha:\n",
    "    print(\"your value is alphabetic\")\n",
    "elif value.isalnum:\n",
    "    print(\"your value is alphanumeric\")\n",
    "elif value.isspace:\n",
    "    print(\"your value contains only spaces\")\n",
    "else:\n",
    "    print(\"your value is mixed\")\n"
   ]
  },
  {
   "cell_type": "code",
   "execution_count": 9,
   "metadata": {},
   "outputs": [
    {
     "name": "stdout",
     "output_type": "stream",
     "text": [
      "a is less than b\n"
     ]
    }
   ],
   "source": [
    "a = 2\n",
    "b = 20\n",
    "if a > b:\n",
    "    print('a is grester than b')\n",
    "elif a < b:\n",
    "    print('a is less than b')\n",
    "elif a >= b:\n",
    "    print('a is greater than equal to b')\n",
    "else:\n",
    "    print('a is equal to b')"
   ]
  },
  {
   "cell_type": "code",
   "execution_count": 14,
   "metadata": {},
   "outputs": [
    {
     "name": "stdout",
     "output_type": "stream",
     "text": [
      "x+x*y+y/10 212.0\n"
     ]
    }
   ],
   "source": [
    "x = 10 \n",
    "y = 20\n",
    "\n",
    "eq = input(\"enter an equation using x and y:\")\n",
    "print(eq, eval(eq))"
   ]
  },
  {
   "cell_type": "code",
   "execution_count": 20,
   "metadata": {},
   "outputs": [
    {
     "data": {
      "text/plain": [
       "212.0"
      ]
     },
     "execution_count": 20,
     "metadata": {},
     "output_type": "execute_result"
    }
   ],
   "source": [
    "10+10*20+20/10"
   ]
  },
  {
   "cell_type": "code",
   "execution_count": 22,
   "metadata": {},
   "outputs": [
    {
     "data": {
      "text/plain": [
       "'PRIYA'"
      ]
     },
     "execution_count": 22,
     "metadata": {},
     "output_type": "execute_result"
    }
   ],
   "source": [
    "name = \"priya\"\n",
    "eval(\"name.upper()\")"
   ]
  },
  {
   "cell_type": "code",
   "execution_count": null,
   "metadata": {},
   "outputs": [],
   "source": []
  },
  {
   "cell_type": "markdown",
   "metadata": {},
   "source": [
    "list"
   ]
  },
  {
   "cell_type": "code",
   "execution_count": 1,
   "metadata": {},
   "outputs": [
    {
     "name": "stdout",
     "output_type": "stream",
     "text": [
      "[1, 3, 4, 5, 6, 7, 8, 9]\n"
     ]
    }
   ],
   "source": [
    "a = [1,3,4,5,6,7,8,9]\n",
    "print(a)"
   ]
  },
  {
   "cell_type": "code",
   "execution_count": 2,
   "metadata": {},
   "outputs": [],
   "source": [
    "n1 = [1,2,3,4,5,6,7,8,9,10]"
   ]
  },
  {
   "cell_type": "code",
   "execution_count": 3,
   "metadata": {},
   "outputs": [
    {
     "data": {
      "text/plain": [
       "[1, 2, 3, 4, 5]"
      ]
     },
     "execution_count": 3,
     "metadata": {},
     "output_type": "execute_result"
    }
   ],
   "source": [
    "n1[:5]#first five"
   ]
  },
  {
   "cell_type": "code",
   "execution_count": 5,
   "metadata": {},
   "outputs": [
    {
     "data": {
      "text/plain": [
       "[6, 7, 8, 9, 10]"
      ]
     },
     "execution_count": 5,
     "metadata": {},
     "output_type": "execute_result"
    }
   ],
   "source": [
    "n1[-5:]"
   ]
  },
  {
   "cell_type": "code",
   "execution_count": 6,
   "metadata": {},
   "outputs": [
    {
     "data": {
      "text/plain": [
       "[4, 5, 6, 7]"
      ]
     },
     "execution_count": 6,
     "metadata": {},
     "output_type": "execute_result"
    }
   ],
   "source": [
    "n1[n3:-3]"
   ]
  },
  {
   "cell_type": "code",
   "execution_count": 7,
   "metadata": {},
   "outputs": [
    {
     "name": "stdout",
     "output_type": "stream",
     "text": [
      "1 2 3 4 5 6 7 8 9 10 "
     ]
    }
   ],
   "source": [
    "for i in n1:\n",
    "    print(i,end=' ')"
   ]
  },
  {
   "cell_type": "markdown",
   "metadata": {},
   "source": [
    "# Nested list"
   ]
  },
  {
   "cell_type": "code",
   "execution_count": 8,
   "metadata": {},
   "outputs": [
    {
     "name": "stdout",
     "output_type": "stream",
     "text": [
      "[[1, 2, 3], [3, 4, 5], [1, 2, 3, 4]]\n",
      "[1, 2, 3]\n",
      "[3, 4, 5]\n",
      "[1, 2, 3, 4]\n"
     ]
    }
   ],
   "source": [
    "\n",
    "x = [[1,2,3],[3,4,5],[1,2,3,4]]\n",
    "print(x)\n",
    "for item in x:\n",
    "    print(item)"
   ]
  },
  {
   "cell_type": "code",
   "execution_count": 9,
   "metadata": {},
   "outputs": [
    {
     "name": "stdout",
     "output_type": "stream",
     "text": [
      "1\n",
      "2\n",
      "3\n",
      "3\n",
      "4\n",
      "5\n",
      "1\n",
      "2\n",
      "3\n",
      "4\n"
     ]
    }
   ],
   "source": [
    "for sublist in x:\n",
    "    for i in sublist:\n",
    "        print(i)"
   ]
  },
  {
   "cell_type": "markdown",
   "metadata": {},
   "source": [
    "Functions"
   ]
  },
  {
   "cell_type": "code",
   "execution_count": 10,
   "metadata": {},
   "outputs": [],
   "source": [
    "x = [] # empty list\n",
    "y = [1,2,3] # 3 elements list"
   ]
  },
  {
   "cell_type": "markdown",
   "metadata": {},
   "source": [
    " Append"
   ]
  },
  {
   "cell_type": "code",
   "execution_count": 11,
   "metadata": {},
   "outputs": [
    {
     "name": "stdout",
     "output_type": "stream",
     "text": [
      "[12]\n",
      "[12, 5]\n",
      "[12, 5, 13, 10]\n"
     ]
    }
   ],
   "source": [
    "# append means add the value and can be at only one value at a time\n",
    "\n",
    "x.append(12)\n",
    "print(x)\n",
    "x.append(5)\n",
    "print(x)\n",
    "x.append(13)\n",
    "x.append(10)\n",
    "print(x)"
   ]
  },
  {
   "cell_type": "code",
   "execution_count": 13,
   "metadata": {},
   "outputs": [
    {
     "name": "stdout",
     "output_type": "stream",
     "text": [
      "[12, 5, 10, 10, 13, 10]\n"
     ]
    }
   ],
   "source": [
    "x.insert(2,10)\n",
    "print(x)"
   ]
  },
  {
   "cell_type": "code",
   "execution_count": 14,
   "metadata": {},
   "outputs": [
    {
     "name": "stdout",
     "output_type": "stream",
     "text": [
      "[12, 5, 10, 10, 13, 'hello', 10]\n"
     ]
    }
   ],
   "source": [
    "x.insert(5,'hello')\n",
    "print(x)\n"
   ]
  },
  {
   "cell_type": "markdown",
   "metadata": {},
   "source": [
    "Remove"
   ]
  },
  {
   "cell_type": "code",
   "execution_count": 15,
   "metadata": {},
   "outputs": [
    {
     "name": "stdout",
     "output_type": "stream",
     "text": [
      "[12, 5, 10, 10, 13, 10]\n"
     ]
    }
   ],
   "source": [
    "# remove the value but at first accurance\n",
    "\n",
    "x.remove(\"hello\")\n",
    "print(x)"
   ]
  },
  {
   "cell_type": "code",
   "execution_count": 16,
   "metadata": {},
   "outputs": [],
   "source": [
    "if 10 in x:\n",
    "    x.remove(10)"
   ]
  },
  {
   "cell_type": "code",
   "execution_count": 17,
   "metadata": {},
   "outputs": [
    {
     "name": "stdout",
     "output_type": "stream",
     "text": [
      "[12, 5, 10, 13, 10]\n"
     ]
    }
   ],
   "source": [
    "print(x)"
   ]
  },
  {
   "cell_type": "markdown",
   "metadata": {},
   "source": [
    "Pop = it remove an index value"
   ]
  },
  {
   "cell_type": "code",
   "execution_count": 18,
   "metadata": {},
   "outputs": [
    {
     "data": {
      "text/plain": [
       "[12, 10, 13, 10]"
      ]
     },
     "execution_count": 18,
     "metadata": {},
     "output_type": "execute_result"
    }
   ],
   "source": [
    "x.pop(1)\n",
    "x"
   ]
  },
  {
   "cell_type": "code",
   "execution_count": 19,
   "metadata": {},
   "outputs": [
    {
     "data": {
      "text/plain": [
       "[12, 10, 13]"
      ]
     },
     "execution_count": 19,
     "metadata": {},
     "output_type": "execute_result"
    }
   ],
   "source": [
    "x.pop(3)\n",
    "x"
   ]
  },
  {
   "cell_type": "code",
   "execution_count": 20,
   "metadata": {},
   "outputs": [
    {
     "data": {
      "text/plain": [
       "[12, 10]"
      ]
     },
     "execution_count": 20,
     "metadata": {},
     "output_type": "execute_result"
    }
   ],
   "source": [
    "x.pop()\n",
    "x"
   ]
  },
  {
   "cell_type": "code",
   "execution_count": 21,
   "metadata": {},
   "outputs": [
    {
     "name": "stdout",
     "output_type": "stream",
     "text": [
      "[]\n"
     ]
    }
   ],
   "source": [
    "x.clear()\n",
    "print(x)"
   ]
  },
  {
   "cell_type": "code",
   "execution_count": 22,
   "metadata": {},
   "outputs": [
    {
     "name": "stdout",
     "output_type": "stream",
     "text": [
      "['sam', 'alex', 'bob', 'david', 'jojo', 'kate', 'lise', 'mike', 'nancy']\n"
     ]
    }
   ],
   "source": [
    "names = ['sam','alex','bob','david','jojo','kate','lise','mike','nancy']\n",
    "print(names)"
   ]
  },
  {
   "cell_type": "markdown",
   "metadata": {},
   "source": [
    "Reverse"
   ]
  },
  {
   "cell_type": "code",
   "execution_count": 23,
   "metadata": {},
   "outputs": [
    {
     "name": "stdout",
     "output_type": "stream",
     "text": [
      "['sam', 'alex', 'bob', 'david', 'jojo', 'kate', 'lise', 'mike', 'nancy']\n"
     ]
    }
   ],
   "source": [
    "names.reverse\n",
    "print(names)"
   ]
  },
  {
   "cell_type": "code",
   "execution_count": 24,
   "metadata": {},
   "outputs": [
    {
     "name": "stdout",
     "output_type": "stream",
     "text": [
      "['alex', 'bob', 'david', 'jojo', 'kate', 'lise', 'mike', 'nancy', 'sam']\n"
     ]
    }
   ],
   "source": [
    "names.sort()\n",
    "print(names)"
   ]
  },
  {
   "cell_type": "code",
   "execution_count": 26,
   "metadata": {},
   "outputs": [
    {
     "name": "stdout",
     "output_type": "stream",
     "text": [
      "[1, 2, 3, 3, 4, 7, 8]\n",
      "['a', 'b', 'f', 'r']\n"
     ]
    },
    {
     "ename": "TypeError",
     "evalue": "'<' not supported between instances of 'str' and 'int'",
     "output_type": "error",
     "traceback": [
      "\u001b[1;31m---------------------------------------------------------------------------\u001b[0m",
      "\u001b[1;31mTypeError\u001b[0m                                 Traceback (most recent call last)",
      "\u001b[1;32mc:\\Users\\xyz\\Desktop\\priya.py\\string function.ipynb Cell 92'\u001b[0m in \u001b[0;36m<cell line: 8>\u001b[1;34m()\u001b[0m\n\u001b[0;32m      <a href='vscode-notebook-cell:/c%3A/Users/xyz/Desktop/priya.py/string%20function.ipynb#ch0000096?line=5'>6</a>\u001b[0m y\u001b[39m.\u001b[39msort()\n\u001b[0;32m      <a href='vscode-notebook-cell:/c%3A/Users/xyz/Desktop/priya.py/string%20function.ipynb#ch0000096?line=6'>7</a>\u001b[0m \u001b[39mprint\u001b[39m(y)\n\u001b[1;32m----> <a href='vscode-notebook-cell:/c%3A/Users/xyz/Desktop/priya.py/string%20function.ipynb#ch0000096?line=7'>8</a>\u001b[0m z\u001b[39m.\u001b[39;49msort()\n\u001b[0;32m      <a href='vscode-notebook-cell:/c%3A/Users/xyz/Desktop/priya.py/string%20function.ipynb#ch0000096?line=8'>9</a>\u001b[0m \u001b[39mprint\u001b[39m(z)\n",
      "\u001b[1;31mTypeError\u001b[0m: '<' not supported between instances of 'str' and 'int'"
     ]
    }
   ],
   "source": [
    "x = [1,2,3,4,7,8,3]\n",
    "y = ['a','f','r','b']\n",
    "z =[1,2,3,';a','d']# mixed type value cannot be sorted\n",
    "x.sort()\n",
    "print(x)\n",
    "y.sort()\n",
    "print(y)\n",
    "z.sort()\n",
    "print(z)"
   ]
  },
  {
   "cell_type": "code",
   "execution_count": 27,
   "metadata": {},
   "outputs": [
    {
     "data": {
      "text/plain": [
       "0"
      ]
     },
     "execution_count": 27,
     "metadata": {},
     "output_type": "execute_result"
    }
   ],
   "source": [
    "x.count(z)"
   ]
  },
  {
   "cell_type": "code",
   "execution_count": 28,
   "metadata": {},
   "outputs": [
    {
     "name": "stdout",
     "output_type": "stream",
     "text": [
      "[1, 2, 3, 3, 4, 7, 8]\n"
     ]
    },
    {
     "data": {
      "text/plain": [
       "2"
      ]
     },
     "execution_count": 28,
     "metadata": {},
     "output_type": "execute_result"
    }
   ],
   "source": [
    "print(x)\n",
    "x.index(3)"
   ]
  },
  {
   "cell_type": "code",
   "execution_count": 29,
   "metadata": {},
   "outputs": [
    {
     "data": {
      "text/plain": [
       "4"
      ]
     },
     "execution_count": 29,
     "metadata": {},
     "output_type": "execute_result"
    }
   ],
   "source": [
    "names.index('kate')"
   ]
  },
  {
   "cell_type": "markdown",
   "metadata": {},
   "source": [
    "List with user input(basic)"
   ]
  },
  {
   "cell_type": "code",
   "execution_count": 31,
   "metadata": {},
   "outputs": [
    {
     "name": "stdout",
     "output_type": "stream",
     "text": [
      "['sun', 'mon', 'tue', 'wed', 'thur', 'fri']\n"
     ]
    }
   ],
   "source": [
    "days = []\n",
    "for i in range(6):\n",
    "    a =input(\"names of day:\")\n",
    "    days.append(a)\n",
    "print(days)\n"
   ]
  },
  {
   "cell_type": "code",
   "execution_count": null,
   "metadata": {},
   "outputs": [],
   "source": []
  }
 ],
 "metadata": {
  "interpreter": {
   "hash": "82d89730e7bcf0dccb2cc9f961b008dd6a27a28ad8a465d43acff18a390d940f"
  },
  "kernelspec": {
   "display_name": "Python 3.8.10 64-bit",
   "language": "python",
   "name": "python3"
  },
  "language_info": {
   "codemirror_mode": {
    "name": "ipython",
    "version": 3
   },
   "file_extension": ".py",
   "mimetype": "text/x-python",
   "name": "python",
   "nbconvert_exporter": "python",
   "pygments_lexer": "ipython3",
   "version": "3.8.10"
  },
  "orig_nbformat": 4
 },
 "nbformat": 4,
 "nbformat_minor": 2
}
