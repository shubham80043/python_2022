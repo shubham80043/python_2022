{
 "cells": [
  {
   "cell_type": "markdown",
   "metadata": {},
   "source": [
    "- Armstrong number \n",
    " - A positive  integer is called an armstrong nu,ber of order n .\n",
    "\n",
    " - the sum of cube of each digit equal to the number of itself."
   ]
  },
  {
   "cell_type": "code",
   "execution_count": 1,
   "metadata": {},
   "outputs": [],
   "source": [
    "# i = 153\n",
    "# sum =0\n",
    "# sum = sum + (i% 10)**3\n",
    "# i = i//10\n"
   ]
  },
  {
   "cell_type": "code",
   "execution_count": 7,
   "metadata": {},
   "outputs": [
    {
     "name": "stdout",
     "output_type": "stream",
     "text": [
      "yes,the given number 153 is armstrong number\n"
     ]
    }
   ],
   "source": [
    "i = int(input(\"enter the aremstrong number\"))\n",
    "orgn = i\n",
    "sum  = 0\n",
    "while(i>0):\n",
    "    remainder = i%10\n",
    "    sum = sum + remainder**3\n",
    "    i = i//10\n",
    "if orgn == sum:\n",
    "    print(f\"yes,the given number {orgn} is armstrong number\")\n",
    "else:\n",
    "    print(\"no,the given number {orgn} is not armstrong number\")\n",
    "\n"
   ]
  },
  {
   "cell_type": "code",
   "execution_count": null,
   "metadata": {},
   "outputs": [],
   "source": []
  }
 ],
 "metadata": {
  "interpreter": {
   "hash": "82d89730e7bcf0dccb2cc9f961b008dd6a27a28ad8a465d43acff18a390d940f"
  },
  "kernelspec": {
   "display_name": "Python 3.8.10 64-bit",
   "language": "python",
   "name": "python3"
  },
  "language_info": {
   "codemirror_mode": {
    "name": "ipython",
    "version": 3
   },
   "file_extension": ".py",
   "mimetype": "text/x-python",
   "name": "python",
   "nbconvert_exporter": "python",
   "pygments_lexer": "ipython3",
   "version": "3.8.10"
  },
  "orig_nbformat": 4
 },
 "nbformat": 4,
 "nbformat_minor": 2
}
