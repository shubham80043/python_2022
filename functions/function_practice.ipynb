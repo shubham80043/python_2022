{
 "cells": [
  {
   "cell_type": "markdown",
   "metadata": {},
   "source": [
    " - function"
   ]
  },
  {
   "cell_type": "markdown",
   "metadata": {},
   "source": [
    "def - keyword"
   ]
  },
  {
   "cell_type": "code",
   "execution_count": 2,
   "metadata": {},
   "outputs": [
    {
     "name": "stdout",
     "output_type": "stream",
     "text": [
      "priya\n"
     ]
    }
   ],
   "source": [
    "def priya():  # fuctions name always starts from char,alphabet not from integer or any special char.\n",
    "    print(\"priya\")\n",
    "# calling function \n",
    "priya()"
   ]
  },
  {
   "cell_type": "markdown",
   "metadata": {},
   "source": [
    "- calling function "
   ]
  },
  {
   "cell_type": "code",
   "execution_count": 3,
   "metadata": {},
   "outputs": [
    {
     "name": "stdout",
     "output_type": "stream",
     "text": [
      "hello jack\n"
     ]
    }
   ],
   "source": [
    "def jack():\n",
    "    print(\"hello jack\")\n",
    "jack()"
   ]
  },
  {
   "cell_type": "code",
   "execution_count": 6,
   "metadata": {},
   "outputs": [
    {
     "name": "stdout",
     "output_type": "stream",
     "text": [
      "om\n",
      "jai\n",
      "jagdish\n"
     ]
    }
   ],
   "source": [
    "def om():\n",
    "    print(\"om\")\n",
    "def jai():\n",
    "    print(\"jai\")\n",
    "def jagdish():\n",
    "    print(\"jagdish\")\n",
    "om()\n",
    "jai()\n",
    "jagdish()"
   ]
  },
  {
   "cell_type": "code",
   "execution_count": 2,
   "metadata": {},
   "outputs": [
    {
     "name": "stdout",
     "output_type": "stream",
     "text": [
      "manohar pandey\n"
     ]
    }
   ],
   "source": [
    "def author():\n",
    "    print(\"manohar pandey\")\n",
    "author()"
   ]
  },
  {
   "cell_type": "code",
   "execution_count": null,
   "metadata": {},
   "outputs": [],
   "source": []
  }
 ],
 "metadata": {
  "interpreter": {
   "hash": "82d89730e7bcf0dccb2cc9f961b008dd6a27a28ad8a465d43acff18a390d940f"
  },
  "kernelspec": {
   "display_name": "Python 3.8.10 64-bit",
   "language": "python",
   "name": "python3"
  },
  "language_info": {
   "codemirror_mode": {
    "name": "ipython",
    "version": 3
   },
   "file_extension": ".py",
   "mimetype": "text/x-python",
   "name": "python",
   "nbconvert_exporter": "python",
   "pygments_lexer": "ipython3",
   "version": "3.8.10"
  },
  "orig_nbformat": 4
 },
 "nbformat": 4,
 "nbformat_minor": 2
}
