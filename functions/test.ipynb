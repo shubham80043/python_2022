{
 "cells": [
  {
   "cell_type": "code",
   "execution_count": 3,
   "metadata": {},
   "outputs": [
    {
     "name": "stdout",
     "output_type": "stream",
     "text": [
      "[7]\n"
     ]
    }
   ],
   "source": [
    "x = [52//7]\n",
    "print(x)"
   ]
  },
  {
   "cell_type": "code",
   "execution_count": 4,
   "metadata": {},
   "outputs": [
    {
     "ename": "TypeError",
     "evalue": "can't multiply sequence by non-int of type 'str'",
     "output_type": "error",
     "traceback": [
      "\u001b[1;31m---------------------------------------------------------------------------\u001b[0m",
      "\u001b[1;31mTypeError\u001b[0m                                 Traceback (most recent call last)",
      "\u001b[1;32mc:\\Users\\xyz\\Desktop\\priya.py\\functions\\test.ipynb Cell 2'\u001b[0m in \u001b[0;36m<cell line: 1>\u001b[1;34m()\u001b[0m\n\u001b[1;32m----> <a href='vscode-notebook-cell:/c%3A/Users/xyz/Desktop/priya.py/functions/test.ipynb#ch0000001?line=0'>1</a>\u001b[0m string \u001b[39m=\u001b[39m \u001b[39m'\u001b[39;49m\u001b[39mpyt\u001b[39;49m\u001b[39m'\u001b[39;49m \u001b[39m*\u001b[39;49m \u001b[39m'\u001b[39;49m\u001b[39mhon\u001b[39;49m\u001b[39m'\u001b[39;49m;\n\u001b[0;32m      <a href='vscode-notebook-cell:/c%3A/Users/xyz/Desktop/priya.py/functions/test.ipynb#ch0000001?line=1'>2</a>\u001b[0m \u001b[39mprint\u001b[39m(string)\n",
      "\u001b[1;31mTypeError\u001b[0m: can't multiply sequence by non-int of type 'str'"
     ]
    }
   ],
   "source": [
    "string = 'pyt' * 'hon';\n",
    "print(string)"
   ]
  },
  {
   "cell_type": "code",
   "execution_count": 6,
   "metadata": {},
   "outputs": [
    {
     "name": "stdout",
     "output_type": "stream",
     "text": [
      "good\n"
     ]
    }
   ],
   "source": [
    "sent = ' the ant and the elephant'\n",
    "if ' ant' in sent:\n",
    "    print('good')\n",
    "elif 'and' in sent:\n",
    "    print('nice')\n",
    "else:\n",
    "    print('excellent')"
   ]
  },
  {
   "cell_type": "code",
   "execution_count": 7,
   "metadata": {},
   "outputs": [
    {
     "name": "stdout",
     "output_type": "stream",
     "text": [
      "dy\n"
     ]
    }
   ],
   "source": [
    "x = \"now when we are ready\"\n",
    "print(' now when we are ready'[:] [-2::])"
   ]
  },
  {
   "cell_type": "code",
   "execution_count": 8,
   "metadata": {},
   "outputs": [
    {
     "name": "stdout",
     "output_type": "stream",
     "text": [
      "found 15\n",
      "found 15\n",
      "found 15\n",
      "found 15\n",
      "found 15\n"
     ]
    }
   ],
   "source": [
    "for i in range (10, 20):\n",
    "    if i == 15:\n",
    "        break\n",
    "    print('found 15')\n",
    "    if i==30:\n",
    "        print('in the loop')"
   ]
  },
  {
   "cell_type": "code",
   "execution_count": 9,
   "metadata": {},
   "outputs": [
    {
     "name": "stdout",
     "output_type": "stream",
     "text": [
      "Uncle john\n"
     ]
    }
   ],
   "source": [
    "print('uncle john'.capitalize())"
   ]
  },
  {
   "cell_type": "code",
   "execution_count": 10,
   "metadata": {},
   "outputs": [
    {
     "name": "stdout",
     "output_type": "stream",
     "text": [
      "20\n"
     ]
    }
   ],
   "source": [
    "a_dict = {'apple' : 20,'banana' : 45, 'mango' : 12}\n",
    "print(a_dict.get('apple',10))"
   ]
  },
  {
   "cell_type": "code",
   "execution_count": 11,
   "metadata": {},
   "outputs": [
    {
     "name": "stdout",
     "output_type": "stream",
     "text": [
      "<class 'str'>\n"
     ]
    }
   ],
   "source": [
    "a_tuple = ('12')\n",
    "print(type(a_tuple))"
   ]
  },
  {
   "cell_type": "code",
   "execution_count": 12,
   "metadata": {},
   "outputs": [
    {
     "name": "stdout",
     "output_type": "stream",
     "text": [
      "[4, 7, 2, 678, 23]\n"
     ]
    }
   ],
   "source": [
    "a_list = [4,7,2,678,23]\n",
    "A = sorted(a_list)\n",
    "print(a_list)"
   ]
  },
  {
   "cell_type": "code",
   "execution_count": 13,
   "metadata": {},
   "outputs": [
    {
     "name": "stdout",
     "output_type": "stream",
     "text": [
      "{43, 60}\n"
     ]
    }
   ],
   "source": [
    "a_set = {43 , 76 ,2 , 54, 89, 60}\n",
    "b_set = {89,2,5,76,54}\n",
    "a_set.difference_update(b_set)\n",
    "print(a_set)"
   ]
  },
  {
   "cell_type": "code",
   "execution_count": 14,
   "metadata": {},
   "outputs": [
    {
     "name": "stdout",
     "output_type": "stream",
     "text": [
      "2323\n"
     ]
    }
   ],
   "source": [
    "A = '23'\n",
    "print(A*2)"
   ]
  },
  {
   "cell_type": "code",
   "execution_count": 15,
   "metadata": {},
   "outputs": [
    {
     "name": "stdout",
     "output_type": "stream",
     "text": [
      "8\n"
     ]
    }
   ],
   "source": [
    "def my_func(a, b=3):\n",
    "    print(a+b)\n",
    "my_func(3,5)"
   ]
  },
  {
   "cell_type": "code",
   "execution_count": 16,
   "metadata": {},
   "outputs": [
    {
     "name": "stdout",
     "output_type": "stream",
     "text": [
      "[6, 1, 9]\n"
     ]
    }
   ],
   "source": [
    "def sum_it(*nums):\n",
    "    print(sum(nums))\n",
    "print([6,1,9])"
   ]
  },
  {
   "cell_type": "code",
   "execution_count": 17,
   "metadata": {},
   "outputs": [
    {
     "ename": "AttributeError",
     "evalue": "'tuple' object has no attribute 'pop'",
     "output_type": "error",
     "traceback": [
      "\u001b[1;31m---------------------------------------------------------------------------\u001b[0m",
      "\u001b[1;31mAttributeError\u001b[0m                            Traceback (most recent call last)",
      "\u001b[1;32mc:\\Users\\xyz\\Desktop\\priya.py\\functions\\test.ipynb Cell 15'\u001b[0m in \u001b[0;36m<cell line: 2>\u001b[1;34m()\u001b[0m\n\u001b[0;32m      <a href='vscode-notebook-cell:/c%3A/Users/xyz/Desktop/priya.py/functions/test.ipynb#ch0000014?line=0'>1</a>\u001b[0m a_set \u001b[39m=\u001b[39m (\u001b[39m2\u001b[39m,\u001b[39m3\u001b[39m,)\n\u001b[1;32m----> <a href='vscode-notebook-cell:/c%3A/Users/xyz/Desktop/priya.py/functions/test.ipynb#ch0000014?line=1'>2</a>\u001b[0m a_set\u001b[39m.\u001b[39;49mpop()\n\u001b[0;32m      <a href='vscode-notebook-cell:/c%3A/Users/xyz/Desktop/priya.py/functions/test.ipynb#ch0000014?line=2'>3</a>\u001b[0m a_set\u001b[39m.\u001b[39mpop()\n\u001b[0;32m      <a href='vscode-notebook-cell:/c%3A/Users/xyz/Desktop/priya.py/functions/test.ipynb#ch0000014?line=3'>4</a>\u001b[0m \u001b[39mprint\u001b[39m(a_set)\n",
      "\u001b[1;31mAttributeError\u001b[0m: 'tuple' object has no attribute 'pop'"
     ]
    }
   ],
   "source": [
    "a_set = (2,3,)\n",
    "a_set.pop()\n",
    "a_set.pop()\n",
    "print(a_set)"
   ]
  },
  {
   "cell_type": "code",
   "execution_count": 18,
   "metadata": {},
   "outputs": [
    {
     "name": "stdout",
     "output_type": "stream",
     "text": [
      "hey,how,are,you\n"
     ]
    }
   ],
   "source": [
    "a_list =['hey' , 'how' ,'are','you']\n",
    "print(','.join(a_list))"
   ]
  },
  {
   "cell_type": "code",
   "execution_count": 19,
   "metadata": {},
   "outputs": [
    {
     "name": "stdout",
     "output_type": "stream",
     "text": [
      "['apple', 'banana', 'cat']\n"
     ]
    }
   ],
   "source": [
    "a_list = {'apple','banana','cat','apple'}\n",
    "a_set = list(a_list)\n",
    "print(a_set)"
   ]
  },
  {
   "cell_type": "code",
   "execution_count": 20,
   "metadata": {},
   "outputs": [
    {
     "name": "stdout",
     "output_type": "stream",
     "text": [
      "{'a': 65, 'f': 123, 'ds': 1213}\n"
     ]
    }
   ],
   "source": [
    "a_dict = {'a':65 , 'f' : 78 , 'ds' : 1213}\n",
    "a_dict['f'] =123\n",
    "print(a_dict)"
   ]
  },
  {
   "cell_type": "code",
   "execution_count": 21,
   "metadata": {},
   "outputs": [
    {
     "name": "stdout",
     "output_type": "stream",
     "text": [
      "python is awesome\n"
     ]
    }
   ],
   "source": [
    "string = 'python is awesome'\n",
    "string[:][: : -1]\n",
    "print(string)"
   ]
  },
  {
   "cell_type": "code",
   "execution_count": 23,
   "metadata": {},
   "outputs": [
    {
     "name": "stdout",
     "output_type": "stream",
     "text": [
      "-1\n"
     ]
    }
   ],
   "source": [
    "string = ' python is awesome'\n",
    "print(string.find('wes',30))"
   ]
  },
  {
   "cell_type": "code",
   "execution_count": null,
   "metadata": {},
   "outputs": [],
   "source": []
  }
 ],
 "metadata": {
  "interpreter": {
   "hash": "82d89730e7bcf0dccb2cc9f961b008dd6a27a28ad8a465d43acff18a390d940f"
  },
  "kernelspec": {
   "display_name": "Python 3.8.10 64-bit",
   "language": "python",
   "name": "python3"
  },
  "language_info": {
   "codemirror_mode": {
    "name": "ipython",
    "version": 3
   },
   "file_extension": ".py",
   "mimetype": "text/x-python",
   "name": "python",
   "nbconvert_exporter": "python",
   "pygments_lexer": "ipython3",
   "version": "3.8.10"
  },
  "orig_nbformat": 4
 },
 "nbformat": 4,
 "nbformat_minor": 2
}
